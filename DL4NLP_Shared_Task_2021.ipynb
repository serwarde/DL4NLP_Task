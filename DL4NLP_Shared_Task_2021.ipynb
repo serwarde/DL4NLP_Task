{
  "cells": [
    {
      "cell_type": "code",
      "execution_count": null,
      "metadata": {
        "colab": {
          "base_uri": "https://localhost:8080/"
        },
        "id": "JTEaLsmh4reu",
        "outputId": "fe22c219-a02e-4a37-a786-c6093298150e"
      },
      "outputs": [
        {
          "name": "stdout",
          "output_type": "stream",
          "text": [
            "Collecting transformers\n",
            "\u001b[?25l  Downloading https://files.pythonhosted.org/packages/fd/1a/41c644c963249fd7f3836d926afa1e3f1cc234a1c40d80c5f03ad8f6f1b2/transformers-4.8.2-py3-none-any.whl (2.5MB)\n",
            "\u001b[K     |████████████████████████████████| 2.5MB 8.6MB/s \n",
            "\u001b[?25hCollecting sentencepiece\n",
            "\u001b[?25l  Downloading https://files.pythonhosted.org/packages/ac/aa/1437691b0c7c83086ebb79ce2da16e00bef024f24fec2a5161c35476f499/sentencepiece-0.1.96-cp37-cp37m-manylinux_2_17_x86_64.manylinux2014_x86_64.whl (1.2MB)\n",
            "\u001b[K     |████████████████████████████████| 1.2MB 38.1MB/s \n",
            "\u001b[?25hRequirement already satisfied: packaging in /usr/local/lib/python3.7/dist-packages (from transformers) (20.9)\n",
            "Requirement already satisfied: importlib-metadata; python_version < \"3.8\" in /usr/local/lib/python3.7/dist-packages (from transformers) (4.5.0)\n",
            "Collecting sacremoses\n",
            "\u001b[?25l  Downloading https://files.pythonhosted.org/packages/75/ee/67241dc87f266093c533a2d4d3d69438e57d7a90abb216fa076e7d475d4a/sacremoses-0.0.45-py3-none-any.whl (895kB)\n",
            "\u001b[K     |████████████████████████████████| 901kB 36.8MB/s \n",
            "\u001b[?25hRequirement already satisfied: regex!=2019.12.17 in /usr/local/lib/python3.7/dist-packages (from transformers) (2019.12.20)\n",
            "Collecting tokenizers<0.11,>=0.10.1\n",
            "\u001b[?25l  Downloading https://files.pythonhosted.org/packages/d4/e2/df3543e8ffdab68f5acc73f613de9c2b155ac47f162e725dcac87c521c11/tokenizers-0.10.3-cp37-cp37m-manylinux_2_5_x86_64.manylinux1_x86_64.manylinux_2_12_x86_64.manylinux2010_x86_64.whl (3.3MB)\n",
            "\u001b[K     |████████████████████████████████| 3.3MB 40.0MB/s \n",
            "\u001b[?25hRequirement already satisfied: filelock in /usr/local/lib/python3.7/dist-packages (from transformers) (3.0.12)\n",
            "Requirement already satisfied: numpy>=1.17 in /usr/local/lib/python3.7/dist-packages (from transformers) (1.19.5)\n",
            "Requirement already satisfied: pyyaml in /usr/local/lib/python3.7/dist-packages (from transformers) (3.13)\n",
            "Requirement already satisfied: tqdm>=4.27 in /usr/local/lib/python3.7/dist-packages (from transformers) (4.41.1)\n",
            "Requirement already satisfied: requests in /usr/local/lib/python3.7/dist-packages (from transformers) (2.23.0)\n",
            "Collecting huggingface-hub==0.0.12\n",
            "  Downloading https://files.pythonhosted.org/packages/2f/ee/97e253668fda9b17e968b3f97b2f8e53aa0127e8807d24a547687423fe0b/huggingface_hub-0.0.12-py3-none-any.whl\n",
            "Requirement already satisfied: pyparsing>=2.0.2 in /usr/local/lib/python3.7/dist-packages (from packaging->transformers) (2.4.7)\n",
            "Requirement already satisfied: zipp>=0.5 in /usr/local/lib/python3.7/dist-packages (from importlib-metadata; python_version < \"3.8\"->transformers) (3.4.1)\n",
            "Requirement already satisfied: typing-extensions>=3.6.4; python_version < \"3.8\" in /usr/local/lib/python3.7/dist-packages (from importlib-metadata; python_version < \"3.8\"->transformers) (3.7.4.3)\n",
            "Requirement already satisfied: joblib in /usr/local/lib/python3.7/dist-packages (from sacremoses->transformers) (1.0.1)\n",
            "Requirement already satisfied: six in /usr/local/lib/python3.7/dist-packages (from sacremoses->transformers) (1.15.0)\n",
            "Requirement already satisfied: click in /usr/local/lib/python3.7/dist-packages (from sacremoses->transformers) (7.1.2)\n",
            "Requirement already satisfied: chardet<4,>=3.0.2 in /usr/local/lib/python3.7/dist-packages (from requests->transformers) (3.0.4)\n",
            "Requirement already satisfied: certifi>=2017.4.17 in /usr/local/lib/python3.7/dist-packages (from requests->transformers) (2021.5.30)\n",
            "Requirement already satisfied: idna<3,>=2.5 in /usr/local/lib/python3.7/dist-packages (from requests->transformers) (2.10)\n",
            "Requirement already satisfied: urllib3!=1.25.0,!=1.25.1,<1.26,>=1.21.1 in /usr/local/lib/python3.7/dist-packages (from requests->transformers) (1.24.3)\n",
            "Installing collected packages: sacremoses, tokenizers, huggingface-hub, transformers, sentencepiece\n",
            "Successfully installed huggingface-hub-0.0.12 sacremoses-0.0.45 sentencepiece-0.1.96 tokenizers-0.10.3 transformers-4.8.2\n"
          ]
        }
      ],
      "source": [
        "!pip install transformers sentencepiece"
      ]
    },
    {
      "cell_type": "code",
      "execution_count": null,
      "metadata": {
        "colab": {
          "base_uri": "https://localhost:8080/"
        },
        "id": "CXLFRVEN4un6",
        "outputId": "40e64372-f069-42cb-d179-6b0fbb435326"
      },
      "outputs": [
        {
          "name": "stdout",
          "output_type": "stream",
          "text": [
            "Thu Jul  8 21:00:30 2021       \n",
            "+-----------------------------------------------------------------------------+\n",
            "| NVIDIA-SMI 470.42.01    Driver Version: 460.32.03    CUDA Version: 11.2     |\n",
            "|-------------------------------+----------------------+----------------------+\n",
            "| GPU  Name        Persistence-M| Bus-Id        Disp.A | Volatile Uncorr. ECC |\n",
            "| Fan  Temp  Perf  Pwr:Usage/Cap|         Memory-Usage | GPU-Util  Compute M. |\n",
            "|                               |                      |               MIG M. |\n",
            "|===============================+======================+======================|\n",
            "|   0  Tesla T4            Off  | 00000000:00:04.0 Off |                    0 |\n",
            "| N/A   75C    P8    25W /  70W |      0MiB / 15109MiB |      0%      Default |\n",
            "|                               |                      |                  N/A |\n",
            "+-------------------------------+----------------------+----------------------+\n",
            "                                                                               \n",
            "+-----------------------------------------------------------------------------+\n",
            "| Processes:                                                                  |\n",
            "|  GPU   GI   CI        PID   Type   Process name                  GPU Memory |\n",
            "|        ID   ID                                                   Usage      |\n",
            "|=============================================================================|\n",
            "|  No running processes found                                                 |\n",
            "+-----------------------------------------------------------------------------+\n"
          ]
        }
      ],
      "source": [
        "!nvidia-smi"
      ]
    },
    {
      "cell_type": "code",
      "execution_count": null,
      "metadata": {
        "id": "npHG4ptZHOIT"
      },
      "outputs": [],
      "source": [
        "!rm -r results"
      ]
    },
    {
      "cell_type": "code",
      "execution_count": null,
      "metadata": {
        "colab": {
          "base_uri": "https://localhost:8080/"
        },
        "id": "M6OKk6rBghQz",
        "outputId": "8371689c-531b-4913-866c-030365f7cd34"
      },
      "outputs": [
        {
          "name": "stdout",
          "output_type": "stream",
          "text": [
            "--2021-07-08 19:26:07--  http://ciir.cs.umass.edu/downloads/qulac/data/qulac/qulac.json\n",
            "Resolving ciir.cs.umass.edu (ciir.cs.umass.edu)... 128.119.246.154\n",
            "Connecting to ciir.cs.umass.edu (ciir.cs.umass.edu)|128.119.246.154|:80... connected.\n",
            "HTTP request sent, awaiting response... 200 OK\n",
            "Length: 3799709 (3.6M) [application/json]\n",
            "Saving to: ‘qulac.json.3’\n",
            "\n",
            "qulac.json.3        100%[===================>]   3.62M  5.82MB/s    in 0.6s    \n",
            "\n",
            "2021-07-08 19:26:08 (5.82 MB/s) - ‘qulac.json.3’ saved [3799709/3799709]\n",
            "\n"
          ]
        }
      ],
      "source": [
        "!wget http://ciir.cs.umass.edu/downloads/qulac/data/qulac/qulac.json"
      ]
    },
    {
      "cell_type": "code",
      "execution_count": null,
      "metadata": {
        "id": "9YySr9Dn4yqL"
      },
      "outputs": [],
      "source": [
        "import torch\n",
        "import shutil\n",
        "import random\n",
        "import numpy as np\n",
        "import transformers\n",
        "import pandas as pd\n",
        "import seaborn as sns\n",
        "\n",
        "from torch import nn\n",
        "from sklearn.metrics import balanced_accuracy_score, accuracy_score, r2_score\n",
        "from sklearn.model_selection import train_test_split, KFold, StratifiedKFold, RepeatedStratifiedKFold\n",
        "from transformers import AutoModelForSequenceClassification, AutoModel, AutoTokenizer, Trainer, TrainingArguments, EvalPrediction, RobertaTokenizer, RobertaForSequenceClassification"
      ]
    },
    {
      "cell_type": "code",
      "execution_count": null,
      "metadata": {
        "colab": {
          "base_uri": "https://localhost:8080/"
        },
        "id": "P6FHgfwe9Laq",
        "outputId": "affc89c2-dc67-476a-b153-54ef1b1494c6"
      },
      "outputs": [
        {
          "data": {
            "text/plain": [
              "<torch._C.Generator at 0x7fd563cbf550>"
            ]
          },
          "execution_count": 2,
          "metadata": {
            "tags": []
          },
          "output_type": "execute_result"
        }
      ],
      "source": [
        "random.seed(42)\n",
        "np.random.seed(42)\n",
        "torch.manual_seed(42)"
      ]
    },
    {
      "cell_type": "code",
      "execution_count": null,
      "metadata": {
        "colab": {
          "base_uri": "https://localhost:8080/",
          "height": 204
        },
        "id": "6_EEYeGKc-M6",
        "outputId": "cb5d26e0-2878-44d2-81eb-880f01b79aee"
      },
      "outputs": [
        {
          "data": {
            "text/html": [
              "<div>\n",
              "<style scoped>\n",
              "    .dataframe tbody tr th:only-of-type {\n",
              "        vertical-align: middle;\n",
              "    }\n",
              "\n",
              "    .dataframe tbody tr th {\n",
              "        vertical-align: top;\n",
              "    }\n",
              "\n",
              "    .dataframe thead th {\n",
              "        text-align: right;\n",
              "    }\n",
              "</style>\n",
              "<table border=\"1\" class=\"dataframe\">\n",
              "  <thead>\n",
              "    <tr style=\"text-align: right;\">\n",
              "      <th></th>\n",
              "      <th>query</th>\n",
              "      <th>clarifying_question</th>\n",
              "      <th>label</th>\n",
              "    </tr>\n",
              "  </thead>\n",
              "  <tbody>\n",
              "    <tr>\n",
              "      <th>27733</th>\n",
              "      <td>i'm interested in history of the electronic me...</td>\n",
              "      <td>would you like to learn about rock and gem sho...</td>\n",
              "      <td>-1</td>\n",
              "    </tr>\n",
              "    <tr>\n",
              "      <th>27734</th>\n",
              "      <td>i'm interested in history of the electronic me...</td>\n",
              "      <td>do you need a list of civil war battles</td>\n",
              "      <td>-1</td>\n",
              "    </tr>\n",
              "    <tr>\n",
              "      <th>27735</th>\n",
              "      <td>i'm interested in history of the electronic me...</td>\n",
              "      <td>are you interested in heavy trucks part</td>\n",
              "      <td>-1</td>\n",
              "    </tr>\n",
              "    <tr>\n",
              "      <th>27736</th>\n",
              "      <td>i'm interested in history of the electronic me...</td>\n",
              "      <td>do you need information on best climate for sp...</td>\n",
              "      <td>-1</td>\n",
              "    </tr>\n",
              "    <tr>\n",
              "      <th>27737</th>\n",
              "      <td>i'm interested in history of the electronic me...</td>\n",
              "      <td>in which state are you looking for east ridge ...</td>\n",
              "      <td>-1</td>\n",
              "    </tr>\n",
              "  </tbody>\n",
              "</table>\n",
              "</div>"
            ],
            "text/plain": [
              "                                                   query  ... label\n",
              "27733  i'm interested in history of the electronic me...  ...    -1\n",
              "27734  i'm interested in history of the electronic me...  ...    -1\n",
              "27735  i'm interested in history of the electronic me...  ...    -1\n",
              "27736  i'm interested in history of the electronic me...  ...    -1\n",
              "27737  i'm interested in history of the electronic me...  ...    -1\n",
              "\n",
              "[5 rows x 3 columns]"
            ]
          },
          "execution_count": 3,
          "metadata": {
            "tags": []
          },
          "output_type": "execute_result"
        }
      ],
      "source": [
        "training = pd.read_csv(\"training.tsv\", sep=\"\\t\").drop_duplicates()\n",
        "training[\"label\"] = 1\n",
        "\n",
        "# Reset Index & References\n",
        "training.to_csv(\"training.csv\", index=False)\n",
        "training = pd.read_csv(\"training.csv\")\n",
        "\n",
        "t = training\n",
        "for query in training[\"query\"]:\n",
        "  question_candidates = np.random.choice(training[training[\"query\"] != query][\"clarifying_question\"], size = 8) # samples per question\n",
        "  for question in question_candidates:\n",
        "    t = t.append({\n",
        "        \"query\": str(query),\n",
        "        \"clarifying_question\": str(question),\n",
        "        \"label\": -1\n",
        "    }, ignore_index = True)\n",
        "\n",
        "training = t\n",
        "\n",
        "training.tail()"
      ]
    },
    {
      "cell_type": "markdown",
      "metadata": {
        "id": "YrUvHnNA6d8m"
      },
      "source": [
        "roberta large - no qlac - 3 Epochs - R2 0.746606"
      ]
    },
    {
      "cell_type": "code",
      "execution_count": null,
      "metadata": {
        "id": "FIDOiruB6hBw"
      },
      "outputs": [],
      "source": [
        "PRETRAINED_MODEL = \"roberta-large\""
      ]
    },
    {
      "cell_type": "code",
      "execution_count": null,
      "metadata": {
        "id": "F_1OyIHT6trJ"
      },
      "outputs": [],
      "source": [
        "tokenizer = AutoTokenizer.from_pretrained(PRETRAINED_MODEL, use_fast=True)\n",
        "training_encodings = tokenizer(\n",
        "    list(training[\"query\"]),\n",
        "    list(training[\"clarifying_question\"]), \n",
        "    truncation=True, \n",
        "    padding=True\n",
        ")\n",
        "training_labels = training[\"label\"]"
      ]
    },
    {
      "cell_type": "code",
      "execution_count": null,
      "metadata": {
        "id": "5SZG8X-x4_9Q"
      },
      "outputs": [],
      "source": [
        "class DlnlpDataset(torch.utils.data.Dataset):\n",
        "    def __init__(self, encodings, labels):\n",
        "        self.encodings = encodings\n",
        "        self.labels = labels\n",
        "\n",
        "    def __getitem__(self, idx):\n",
        "        item = {}\n",
        "        for key, val in self.encodings.items():\n",
        "          item[key] = torch.tensor(val[idx])\n",
        "        \n",
        "        item[\"labels\"] = torch.tensor(self.labels[idx], dtype=torch.float)\n",
        "\n",
        "        return item\n",
        "\n",
        "    def __len__(self):\n",
        "        return len(self.labels)"
      ]
    },
    {
      "cell_type": "code",
      "execution_count": null,
      "metadata": {
        "id": "DhyNBr8qDXz5"
      },
      "outputs": [],
      "source": [
        "dataset = DlnlpDataset(training_encodings, training_labels)"
      ]
    },
    {
      "cell_type": "code",
      "execution_count": null,
      "metadata": {
        "id": "sEHyC_a3FIs2"
      },
      "outputs": [],
      "source": [
        "train_dataset, validation_dataset = torch.utils.data.random_split(dataset, [int(len(dataset) * .8) + 1, int(len(dataset) * .2)])"
      ]
    },
    {
      "cell_type": "code",
      "execution_count": null,
      "metadata": {
        "colab": {
          "base_uri": "https://localhost:8080/"
        },
        "id": "qezua_eWWFo3",
        "outputId": "e9b04dc9-88a0-4f33-c718-b5bff7688929"
      },
      "outputs": [
        {
          "name": "stderr",
          "output_type": "stream",
          "text": [
            "Some weights of the model checkpoint at roberta-large were not used when initializing RobertaForSequenceClassification: ['lm_head.decoder.weight', 'roberta.pooler.dense.weight', 'lm_head.bias', 'lm_head.layer_norm.bias', 'lm_head.dense.weight', 'roberta.pooler.dense.bias', 'lm_head.layer_norm.weight', 'lm_head.dense.bias']\n",
            "- This IS expected if you are initializing RobertaForSequenceClassification from the checkpoint of a model trained on another task or with another architecture (e.g. initializing a BertForSequenceClassification model from a BertForPreTraining model).\n",
            "- This IS NOT expected if you are initializing RobertaForSequenceClassification from the checkpoint of a model that you expect to be exactly identical (initializing a BertForSequenceClassification model from a BertForSequenceClassification model).\n",
            "Some weights of RobertaForSequenceClassification were not initialized from the model checkpoint at roberta-large and are newly initialized: ['classifier.out_proj.weight', 'classifier.dense.bias', 'classifier.out_proj.bias', 'classifier.dense.weight']\n",
            "You should probably TRAIN this model on a down-stream task to be able to use it for predictions and inference.\n"
          ]
        }
      ],
      "source": [
        "model = AutoModelForSequenceClassification.from_pretrained(PRETRAINED_MODEL, num_labels=1)"
      ]
    },
    {
      "cell_type": "code",
      "execution_count": null,
      "metadata": {
        "id": "KNafVZ46Md-e"
      },
      "outputs": [],
      "source": [
        "def f1_eval(p: EvalPrediction):\n",
        "    predictions = p.predictions\n",
        "    label_ids = p.label_ids\n",
        "    return {\n",
        "        \"r2\": r2_score(label_ids, predictions),\n",
        "        \"accuracy\": accuracy_score(np.clip(label_ids, 0, 1), np.clip(np.round(predictions), 0, 1)),\n",
        "        \"balanced_accuracy\": balanced_accuracy_score(np.clip(label_ids, 0, 1), np.clip(np.round(predictions), 0 , 1)),\n",
        "    }"
      ]
    },
    {
      "cell_type": "code",
      "execution_count": null,
      "metadata": {
        "colab": {
          "base_uri": "https://localhost:8080/"
        },
        "id": "yQR7IihgD3Zr",
        "outputId": "cb0dadc2-29c3-44b0-e4c9-3a3b7d17af52"
      },
      "outputs": [
        {
          "name": "stderr",
          "output_type": "stream",
          "text": [
            "Using amp fp16 backend\n"
          ]
        }
      ],
      "source": [
        "trainer = Trainer(\n",
        "    model=model,\n",
        "    args=TrainingArguments(\n",
        "        overwrite_output_dir=True,\n",
        "        output_dir='./results',\n",
        "        save_strategy=\"no\",\n",
        "        num_train_epochs=5,\n",
        "        per_device_train_batch_size=4,\n",
        "        per_device_eval_batch_size=4,\n",
        "        gradient_accumulation_steps=16,\n",
        "        warmup_steps=40,\n",
        "        weight_decay=0.01,\n",
        "        logging_dir='./logs',\n",
        "        logging_steps=10,\n",
        "        evaluation_strategy=\"epoch\",\n",
        "        learning_rate=1e-05,\n",
        "        fp16=True,\n",
        "    ),\n",
        "    train_dataset=train_dataset,\n",
        "    eval_dataset=validation_dataset,\n",
        "    compute_metrics=f1_eval\n",
        ")"
      ]
    },
    {
      "cell_type": "code",
      "execution_count": null,
      "metadata": {
        "colab": {
          "base_uri": "https://localhost:8080/",
          "height": 849
        },
        "id": "ep3R4DUrYAJz",
        "outputId": "59c896cc-f2b2-4d8e-a4fc-9e7b00bca609"
      },
      "outputs": [
        {
          "name": "stderr",
          "output_type": "stream",
          "text": [
            "***** Running training *****\n",
            "  Num examples = 22191\n",
            "  Num Epochs = 5\n",
            "  Instantaneous batch size per device = 4\n",
            "  Total train batch size (w. parallel, distributed & accumulation) = 64\n",
            "  Gradient Accumulation steps = 16\n",
            "  Total optimization steps = 1730\n"
          ]
        },
        {
          "data": {
            "text/html": [
              "\n",
              "    <div>\n",
              "      \n",
              "      <progress value='472' max='1730' style='width:300px; height:20px; vertical-align: middle;'></progress>\n",
              "      [ 472/1730 15:44 < 42:08, 0.50 it/s, Epoch 1.36/5]\n",
              "    </div>\n",
              "    <table border=\"1\" class=\"dataframe\">\n",
              "  <thead>\n",
              "    <tr style=\"text-align: left;\">\n",
              "      <th>Epoch</th>\n",
              "      <th>Training Loss</th>\n",
              "      <th>Validation Loss</th>\n",
              "      <th>R2</th>\n",
              "      <th>Accuracy</th>\n",
              "      <th>Balanced Accuracy</th>\n",
              "    </tr>\n",
              "  </thead>\n",
              "  <tbody>\n",
              "    <tr>\n",
              "      <td>0</td>\n",
              "      <td>0.100700</td>\n",
              "      <td>0.095741</td>\n",
              "      <td>0.756154</td>\n",
              "      <td>0.973860</td>\n",
              "      <td>0.919467</td>\n",
              "    </tr>\n",
              "  </tbody>\n",
              "</table><p>"
            ],
            "text/plain": [
              "<IPython.core.display.HTML object>"
            ]
          },
          "metadata": {
            "tags": []
          },
          "output_type": "display_data"
        },
        {
          "name": "stderr",
          "output_type": "stream",
          "text": [
            "/usr/local/lib/python3.7/dist-packages/transformers/trainer.py:1299: FutureWarning: Non-finite norm encountered in torch.nn.utils.clip_grad_norm_; continuing anyway. Note that the default behavior will change in a future release to error out if a non-finite total norm is encountered. At that point, setting error_if_nonfinite=false will be required to retain the old behavior.\n",
            "  args.max_grad_norm,\n",
            "***** Running Evaluation *****\n",
            "  Num examples = 5547\n",
            "  Batch size = 4\n"
          ]
        },
        {
          "data": {
            "text/html": [
              "\n",
              "    <div>\n",
              "      \n",
              "      <progress value='1730' max='1730' style='width:300px; height:20px; vertical-align: middle;'></progress>\n",
              "      [1730/1730 59:25, Epoch 4/5]\n",
              "    </div>\n",
              "    <table border=\"1\" class=\"dataframe\">\n",
              "  <thead>\n",
              "    <tr style=\"text-align: left;\">\n",
              "      <th>Epoch</th>\n",
              "      <th>Training Loss</th>\n",
              "      <th>Validation Loss</th>\n",
              "      <th>R2</th>\n",
              "      <th>Accuracy</th>\n",
              "      <th>Balanced Accuracy</th>\n",
              "    </tr>\n",
              "  </thead>\n",
              "  <tbody>\n",
              "    <tr>\n",
              "      <td>0</td>\n",
              "      <td>0.100700</td>\n",
              "      <td>0.095741</td>\n",
              "      <td>0.756154</td>\n",
              "      <td>0.973860</td>\n",
              "      <td>0.919467</td>\n",
              "    </tr>\n",
              "    <tr>\n",
              "      <td>1</td>\n",
              "      <td>0.093400</td>\n",
              "      <td>0.077925</td>\n",
              "      <td>0.801530</td>\n",
              "      <td>0.976564</td>\n",
              "      <td>0.910967</td>\n",
              "    </tr>\n",
              "    <tr>\n",
              "      <td>2</td>\n",
              "      <td>0.079400</td>\n",
              "      <td>0.087595</td>\n",
              "      <td>0.776900</td>\n",
              "      <td>0.976023</td>\n",
              "      <td>0.922830</td>\n",
              "    </tr>\n",
              "    <tr>\n",
              "      <td>3</td>\n",
              "      <td>0.064200</td>\n",
              "      <td>0.085892</td>\n",
              "      <td>0.781238</td>\n",
              "      <td>0.976744</td>\n",
              "      <td>0.935401</td>\n",
              "    </tr>\n",
              "    <tr>\n",
              "      <td>4</td>\n",
              "      <td>0.022600</td>\n",
              "      <td>0.085768</td>\n",
              "      <td>0.781554</td>\n",
              "      <td>0.977285</td>\n",
              "      <td>0.926402</td>\n",
              "    </tr>\n",
              "  </tbody>\n",
              "</table><p>"
            ],
            "text/plain": [
              "<IPython.core.display.HTML object>"
            ]
          },
          "metadata": {
            "tags": []
          },
          "output_type": "display_data"
        },
        {
          "name": "stderr",
          "output_type": "stream",
          "text": [
            "***** Running Evaluation *****\n",
            "  Num examples = 5547\n",
            "  Batch size = 4\n",
            "***** Running Evaluation *****\n",
            "  Num examples = 5547\n",
            "  Batch size = 4\n",
            "***** Running Evaluation *****\n",
            "  Num examples = 5547\n",
            "  Batch size = 4\n",
            "***** Running Evaluation *****\n",
            "  Num examples = 5547\n",
            "  Batch size = 4\n",
            "\n",
            "\n",
            "Training completed. Do not forget to share your model on huggingface.co/models =)\n",
            "\n",
            "\n"
          ]
        },
        {
          "data": {
            "text/plain": [
              "TrainOutput(global_step=1730, training_loss=0.11070799322831149, metrics={'train_runtime': 3567.7961, 'train_samples_per_second': 31.099, 'train_steps_per_second': 0.485, 'total_flos': 1.2533127989504136e+16, 'train_loss': 0.11070799322831149, 'epoch': 5.0})"
            ]
          },
          "execution_count": 12,
          "metadata": {
            "tags": []
          },
          "output_type": "execute_result"
        }
      ],
      "source": [
        "trainer.train()"
      ]
    },
    {
      "cell_type": "code",
      "execution_count": null,
      "metadata": {
        "colab": {
          "base_uri": "https://localhost:8080/",
          "height": 359
        },
        "id": "FAzwjT8yIccI",
        "outputId": "41c01ad7-9a05-448c-ed2d-0b6d4479cc63"
      },
      "outputs": [
        {
          "data": {
            "text/html": [
              "<div>\n",
              "<style scoped>\n",
              "    .dataframe tbody tr th:only-of-type {\n",
              "        vertical-align: middle;\n",
              "    }\n",
              "\n",
              "    .dataframe tbody tr th {\n",
              "        vertical-align: top;\n",
              "    }\n",
              "\n",
              "    .dataframe thead th {\n",
              "        text-align: right;\n",
              "    }\n",
              "</style>\n",
              "<table border=\"1\" class=\"dataframe\">\n",
              "  <thead>\n",
              "    <tr style=\"text-align: right;\">\n",
              "      <th></th>\n",
              "      <th>query</th>\n",
              "    </tr>\n",
              "  </thead>\n",
              "  <tbody>\n",
              "    <tr>\n",
              "      <th>0</th>\n",
              "      <td>Tell me about Computers</td>\n",
              "    </tr>\n",
              "    <tr>\n",
              "      <th>1</th>\n",
              "      <td>What is a function</td>\n",
              "    </tr>\n",
              "    <tr>\n",
              "      <th>2</th>\n",
              "      <td>Im interested in the current cancellor of germany</td>\n",
              "    </tr>\n",
              "    <tr>\n",
              "      <th>3</th>\n",
              "      <td>Im looking for information about alcohol</td>\n",
              "    </tr>\n",
              "    <tr>\n",
              "      <th>4</th>\n",
              "      <td>I want to know how long an egg needs to boil</td>\n",
              "    </tr>\n",
              "    <tr>\n",
              "      <th>5</th>\n",
              "      <td>I want to know how an engine works</td>\n",
              "    </tr>\n",
              "    <tr>\n",
              "      <th>6</th>\n",
              "      <td>How do i train a neural network</td>\n",
              "    </tr>\n",
              "    <tr>\n",
              "      <th>7</th>\n",
              "      <td>Tell me about job opportunites at the technisc...</td>\n",
              "    </tr>\n",
              "    <tr>\n",
              "      <th>8</th>\n",
              "      <td>How to become an amazon turkey worker</td>\n",
              "    </tr>\n",
              "    <tr>\n",
              "      <th>9</th>\n",
              "      <td>Who is the richest man on the planet</td>\n",
              "    </tr>\n",
              "  </tbody>\n",
              "</table>\n",
              "</div>"
            ],
            "text/plain": [
              "                                               query\n",
              "0                            Tell me about Computers\n",
              "1                                 What is a function\n",
              "2  Im interested in the current cancellor of germany\n",
              "3           Im looking for information about alcohol\n",
              "4       I want to know how long an egg needs to boil\n",
              "5                 I want to know how an engine works\n",
              "6                    How do i train a neural network\n",
              "7  Tell me about job opportunites at the technisc...\n",
              "8              How to become an amazon turkey worker\n",
              "9               Who is the richest man on the planet"
            ]
          },
          "execution_count": 13,
          "metadata": {
            "tags": []
          },
          "output_type": "execute_result"
        }
      ],
      "source": [
        "test_set = pd.read_csv(\"test_set.tsv\", sep=\"\\t\", names=[\"query\"])\n",
        "test_set.head(10)"
      ]
    },
    {
      "cell_type": "code",
      "execution_count": null,
      "metadata": {
        "colab": {
          "base_uri": "https://localhost:8080/",
          "height": 359
        },
        "id": "G_IKq_FE9Hk6",
        "outputId": "37e8d4c7-de8d-46f2-e3d3-fe9d4326c22e"
      },
      "outputs": [
        {
          "data": {
            "text/html": [
              "<div>\n",
              "<style scoped>\n",
              "    .dataframe tbody tr th:only-of-type {\n",
              "        vertical-align: middle;\n",
              "    }\n",
              "\n",
              "    .dataframe tbody tr th {\n",
              "        vertical-align: top;\n",
              "    }\n",
              "\n",
              "    .dataframe thead th {\n",
              "        text-align: right;\n",
              "    }\n",
              "</style>\n",
              "<table border=\"1\" class=\"dataframe\">\n",
              "  <thead>\n",
              "    <tr style=\"text-align: right;\">\n",
              "      <th></th>\n",
              "      <th>question_id</th>\n",
              "      <th>question</th>\n",
              "    </tr>\n",
              "  </thead>\n",
              "  <tbody>\n",
              "    <tr>\n",
              "      <th>0</th>\n",
              "      <td>Q00002</td>\n",
              "      <td>a total cholesterol of 180 to 200 mgdl 10 to 1...</td>\n",
              "    </tr>\n",
              "    <tr>\n",
              "      <th>1</th>\n",
              "      <td>Q00003</td>\n",
              "      <td>about how many years experience do you want th...</td>\n",
              "    </tr>\n",
              "    <tr>\n",
              "      <th>2</th>\n",
              "      <td>Q00004</td>\n",
              "      <td>according to anima the bible or what other source</td>\n",
              "    </tr>\n",
              "    <tr>\n",
              "      <th>3</th>\n",
              "      <td>Q00005</td>\n",
              "      <td>ae you looking for examples of septic system d...</td>\n",
              "    </tr>\n",
              "    <tr>\n",
              "      <th>4</th>\n",
              "      <td>Q00006</td>\n",
              "      <td>any specific company on your mind</td>\n",
              "    </tr>\n",
              "    <tr>\n",
              "      <th>5</th>\n",
              "      <td>Q00007</td>\n",
              "      <td>any tutorials would interest you</td>\n",
              "    </tr>\n",
              "    <tr>\n",
              "      <th>6</th>\n",
              "      <td>Q00008</td>\n",
              "      <td>are asking what the symptoms are for angular c...</td>\n",
              "    </tr>\n",
              "    <tr>\n",
              "      <th>7</th>\n",
              "      <td>Q00009</td>\n",
              "      <td>are interested in the nightlife here</td>\n",
              "    </tr>\n",
              "    <tr>\n",
              "      <th>8</th>\n",
              "      <td>Q00010</td>\n",
              "      <td>are looking for reviews on volvo xc90 suv</td>\n",
              "    </tr>\n",
              "    <tr>\n",
              "      <th>9</th>\n",
              "      <td>Q00011</td>\n",
              "      <td>are ozzie guillen and fidel castro related</td>\n",
              "    </tr>\n",
              "  </tbody>\n",
              "</table>\n",
              "</div>"
            ],
            "text/plain": [
              "  question_id                                           question\n",
              "0      Q00002  a total cholesterol of 180 to 200 mgdl 10 to 1...\n",
              "1      Q00003  about how many years experience do you want th...\n",
              "2      Q00004  according to anima the bible or what other source\n",
              "3      Q00005  ae you looking for examples of septic system d...\n",
              "4      Q00006                  any specific company on your mind\n",
              "5      Q00007                   any tutorials would interest you\n",
              "6      Q00008  are asking what the symptoms are for angular c...\n",
              "7      Q00009               are interested in the nightlife here\n",
              "8      Q00010          are looking for reviews on volvo xc90 suv\n",
              "9      Q00011         are ozzie guillen and fidel castro related"
            ]
          },
          "execution_count": 14,
          "metadata": {
            "tags": []
          },
          "output_type": "execute_result"
        }
      ],
      "source": [
        "question_bank = pd.read_csv(\"question_bank.tsv\", sep=\"\\t\")\n",
        "question_bank.head(10)"
      ]
    },
    {
      "cell_type": "code",
      "execution_count": null,
      "metadata": {
        "colab": {
          "base_uri": "https://localhost:8080/",
          "height": 359
        },
        "id": "QWPDU7qv9N7c",
        "outputId": "0912a2b4-be98-4f4f-edf9-95bf39c0b64a"
      },
      "outputs": [
        {
          "data": {
            "text/html": [
              "<div>\n",
              "<style scoped>\n",
              "    .dataframe tbody tr th:only-of-type {\n",
              "        vertical-align: middle;\n",
              "    }\n",
              "\n",
              "    .dataframe tbody tr th {\n",
              "        vertical-align: top;\n",
              "    }\n",
              "\n",
              "    .dataframe thead th {\n",
              "        text-align: right;\n",
              "    }\n",
              "</style>\n",
              "<table border=\"1\" class=\"dataframe\">\n",
              "  <thead>\n",
              "    <tr style=\"text-align: right;\">\n",
              "      <th></th>\n",
              "      <th>query</th>\n",
              "      <th>clarifying_question</th>\n",
              "      <th>question_id</th>\n",
              "    </tr>\n",
              "  </thead>\n",
              "  <tbody>\n",
              "    <tr>\n",
              "      <th>0</th>\n",
              "      <td>Tell me about Computers</td>\n",
              "      <td>a total cholesterol of 180 to 200 mgdl 10 to 1...</td>\n",
              "      <td>Q00002</td>\n",
              "    </tr>\n",
              "    <tr>\n",
              "      <th>1</th>\n",
              "      <td>What is a function</td>\n",
              "      <td>a total cholesterol of 180 to 200 mgdl 10 to 1...</td>\n",
              "      <td>Q00002</td>\n",
              "    </tr>\n",
              "    <tr>\n",
              "      <th>2</th>\n",
              "      <td>Im interested in the current cancellor of germany</td>\n",
              "      <td>a total cholesterol of 180 to 200 mgdl 10 to 1...</td>\n",
              "      <td>Q00002</td>\n",
              "    </tr>\n",
              "    <tr>\n",
              "      <th>3</th>\n",
              "      <td>Im looking for information about alcohol</td>\n",
              "      <td>a total cholesterol of 180 to 200 mgdl 10 to 1...</td>\n",
              "      <td>Q00002</td>\n",
              "    </tr>\n",
              "    <tr>\n",
              "      <th>4</th>\n",
              "      <td>I want to know how long an egg needs to boil</td>\n",
              "      <td>a total cholesterol of 180 to 200 mgdl 10 to 1...</td>\n",
              "      <td>Q00002</td>\n",
              "    </tr>\n",
              "    <tr>\n",
              "      <th>5</th>\n",
              "      <td>I want to know how an engine works</td>\n",
              "      <td>a total cholesterol of 180 to 200 mgdl 10 to 1...</td>\n",
              "      <td>Q00002</td>\n",
              "    </tr>\n",
              "    <tr>\n",
              "      <th>6</th>\n",
              "      <td>How do i train a neural network</td>\n",
              "      <td>a total cholesterol of 180 to 200 mgdl 10 to 1...</td>\n",
              "      <td>Q00002</td>\n",
              "    </tr>\n",
              "    <tr>\n",
              "      <th>7</th>\n",
              "      <td>Tell me about job opportunites at the technisc...</td>\n",
              "      <td>a total cholesterol of 180 to 200 mgdl 10 to 1...</td>\n",
              "      <td>Q00002</td>\n",
              "    </tr>\n",
              "    <tr>\n",
              "      <th>8</th>\n",
              "      <td>How to become an amazon turkey worker</td>\n",
              "      <td>a total cholesterol of 180 to 200 mgdl 10 to 1...</td>\n",
              "      <td>Q00002</td>\n",
              "    </tr>\n",
              "    <tr>\n",
              "      <th>9</th>\n",
              "      <td>Who is the richest man on the planet</td>\n",
              "      <td>a total cholesterol of 180 to 200 mgdl 10 to 1...</td>\n",
              "      <td>Q00002</td>\n",
              "    </tr>\n",
              "  </tbody>\n",
              "</table>\n",
              "</div>"
            ],
            "text/plain": [
              "                                               query  ... question_id\n",
              "0                            Tell me about Computers  ...      Q00002\n",
              "1                                 What is a function  ...      Q00002\n",
              "2  Im interested in the current cancellor of germany  ...      Q00002\n",
              "3           Im looking for information about alcohol  ...      Q00002\n",
              "4       I want to know how long an egg needs to boil  ...      Q00002\n",
              "5                 I want to know how an engine works  ...      Q00002\n",
              "6                    How do i train a neural network  ...      Q00002\n",
              "7  Tell me about job opportunites at the technisc...  ...      Q00002\n",
              "8              How to become an amazon turkey worker  ...      Q00002\n",
              "9               Who is the richest man on the planet  ...      Q00002\n",
              "\n",
              "[10 rows x 3 columns]"
            ]
          },
          "execution_count": 15,
          "metadata": {
            "tags": []
          },
          "output_type": "execute_result"
        }
      ],
      "source": [
        "queries = []\n",
        "questions = []\n",
        "question_ids = []\n",
        "for question, question_id in zip(question_bank[\"question\"], question_bank[\"question_id\"]):\n",
        "  for query in test_set[\"query\"]:\n",
        "    queries.append(query)\n",
        "    questions.append(question)\n",
        "    question_ids.append(question_id)\n",
        "\n",
        "test = pd.DataFrame({\n",
        "    \"query\": queries,\n",
        "    \"clarifying_question\": questions,\n",
        "    \"question_id\": question_ids\n",
        "})\n",
        "test.head(10)"
      ]
    },
    {
      "cell_type": "code",
      "execution_count": null,
      "metadata": {
        "id": "-uxaiP99Aj65"
      },
      "outputs": [],
      "source": [
        "test_encodings = tokenizer(\n",
        "    list(test[\"query\"]), \n",
        "    list(test[\"clarifying_question\"]), \n",
        "  truncation=True, \n",
        "    padding=True\n",
        ")\n",
        "test_labels = list(map(int, np.zeros(len(test[\"query\"]))))"
      ]
    },
    {
      "cell_type": "code",
      "execution_count": null,
      "metadata": {
        "id": "9dNThIKuA4Fa"
      },
      "outputs": [],
      "source": [
        "test_dataset = DlnlpDataset(test_encodings, test_labels)"
      ]
    },
    {
      "cell_type": "code",
      "execution_count": null,
      "metadata": {
        "colab": {
          "background_save": true,
          "base_uri": "https://localhost:8080/",
          "height": 108
        },
        "id": "t7RxVrwTA-Hf",
        "outputId": "3596175c-95e6-40d8-dd2f-59c3c7a727e6"
      },
      "outputs": [
        {
          "name": "stderr",
          "output_type": "stream",
          "text": [
            "***** Running Prediction *****\n",
            "  Num examples = 182160\n",
            "  Batch size = 4\n"
          ]
        },
        {
          "data": {
            "text/html": [
              "\n",
              "    <div>\n",
              "      \n",
              "      <progress value='45540' max='45540' style='width:300px; height:20px; vertical-align: middle;'></progress>\n",
              "      [45540/45540 42:36]\n",
              "    </div>\n",
              "    "
            ],
            "text/plain": [
              "<IPython.core.display.HTML object>"
            ]
          },
          "metadata": {},
          "output_type": "display_data"
        },
        {
          "name": "stderr",
          "output_type": "stream",
          "text": [
            "/usr/local/lib/python3.7/dist-packages/sklearn/metrics/_classification.py:1859: UserWarning: y_pred contains classes not in y_true\n",
            "  warnings.warn('y_pred contains classes not in y_true')\n"
          ]
        }
      ],
      "source": [
        "test[\"prediction\"] = trainer.predict(test_dataset).predictions.reshape(-1)"
      ]
    },
    {
      "cell_type": "code",
      "execution_count": null,
      "metadata": {
        "colab": {
          "background_save": true
        },
        "id": "ANdn-HUgBNpZ",
        "outputId": "337d7be3-aeb5-4af6-c825-ec5a59e13c9b"
      },
      "outputs": [
        {
          "data": {
            "text/html": [
              "<div>\n",
              "<style scoped>\n",
              "    .dataframe tbody tr th:only-of-type {\n",
              "        vertical-align: middle;\n",
              "    }\n",
              "\n",
              "    .dataframe tbody tr th {\n",
              "        vertical-align: top;\n",
              "    }\n",
              "\n",
              "    .dataframe thead th {\n",
              "        text-align: right;\n",
              "    }\n",
              "</style>\n",
              "<table border=\"1\" class=\"dataframe\">\n",
              "  <thead>\n",
              "    <tr style=\"text-align: right;\">\n",
              "      <th></th>\n",
              "      <th>query</th>\n",
              "      <th>clarifying_question</th>\n",
              "      <th>question_id</th>\n",
              "      <th>prediction</th>\n",
              "    </tr>\n",
              "  </thead>\n",
              "  <tbody>\n",
              "    <tr>\n",
              "      <th>0</th>\n",
              "      <td>Tell me about Computers</td>\n",
              "      <td>a total cholesterol of 180 to 200 mgdl 10 to 1...</td>\n",
              "      <td>Q00002</td>\n",
              "      <td>-0.989867</td>\n",
              "    </tr>\n",
              "    <tr>\n",
              "      <th>1</th>\n",
              "      <td>What is a function</td>\n",
              "      <td>a total cholesterol of 180 to 200 mgdl 10 to 1...</td>\n",
              "      <td>Q00002</td>\n",
              "      <td>-0.980278</td>\n",
              "    </tr>\n",
              "    <tr>\n",
              "      <th>2</th>\n",
              "      <td>Im interested in the current cancellor of germany</td>\n",
              "      <td>a total cholesterol of 180 to 200 mgdl 10 to 1...</td>\n",
              "      <td>Q00002</td>\n",
              "      <td>-0.998335</td>\n",
              "    </tr>\n",
              "    <tr>\n",
              "      <th>3</th>\n",
              "      <td>Im looking for information about alcohol</td>\n",
              "      <td>a total cholesterol of 180 to 200 mgdl 10 to 1...</td>\n",
              "      <td>Q00002</td>\n",
              "      <td>-0.986084</td>\n",
              "    </tr>\n",
              "    <tr>\n",
              "      <th>4</th>\n",
              "      <td>I want to know how long an egg needs to boil</td>\n",
              "      <td>a total cholesterol of 180 to 200 mgdl 10 to 1...</td>\n",
              "      <td>Q00002</td>\n",
              "      <td>-1.003779</td>\n",
              "    </tr>\n",
              "    <tr>\n",
              "      <th>5</th>\n",
              "      <td>I want to know how an engine works</td>\n",
              "      <td>a total cholesterol of 180 to 200 mgdl 10 to 1...</td>\n",
              "      <td>Q00002</td>\n",
              "      <td>-0.996259</td>\n",
              "    </tr>\n",
              "    <tr>\n",
              "      <th>6</th>\n",
              "      <td>How do i train a neural network</td>\n",
              "      <td>a total cholesterol of 180 to 200 mgdl 10 to 1...</td>\n",
              "      <td>Q00002</td>\n",
              "      <td>-0.993569</td>\n",
              "    </tr>\n",
              "    <tr>\n",
              "      <th>7</th>\n",
              "      <td>Tell me about job opportunites at the technisc...</td>\n",
              "      <td>a total cholesterol of 180 to 200 mgdl 10 to 1...</td>\n",
              "      <td>Q00002</td>\n",
              "      <td>-0.985211</td>\n",
              "    </tr>\n",
              "    <tr>\n",
              "      <th>8</th>\n",
              "      <td>How to become an amazon turkey worker</td>\n",
              "      <td>a total cholesterol of 180 to 200 mgdl 10 to 1...</td>\n",
              "      <td>Q00002</td>\n",
              "      <td>-0.998608</td>\n",
              "    </tr>\n",
              "    <tr>\n",
              "      <th>9</th>\n",
              "      <td>Who is the richest man on the planet</td>\n",
              "      <td>a total cholesterol of 180 to 200 mgdl 10 to 1...</td>\n",
              "      <td>Q00002</td>\n",
              "      <td>-0.990558</td>\n",
              "    </tr>\n",
              "  </tbody>\n",
              "</table>\n",
              "</div>"
            ],
            "text/plain": [
              "                                               query  ... prediction\n",
              "0                            Tell me about Computers  ...  -0.989867\n",
              "1                                 What is a function  ...  -0.980278\n",
              "2  Im interested in the current cancellor of germany  ...  -0.998335\n",
              "3           Im looking for information about alcohol  ...  -0.986084\n",
              "4       I want to know how long an egg needs to boil  ...  -1.003779\n",
              "5                 I want to know how an engine works  ...  -0.996259\n",
              "6                    How do i train a neural network  ...  -0.993569\n",
              "7  Tell me about job opportunites at the technisc...  ...  -0.985211\n",
              "8              How to become an amazon turkey worker  ...  -0.998608\n",
              "9               Who is the richest man on the planet  ...  -0.990558\n",
              "\n",
              "[10 rows x 4 columns]"
            ]
          },
          "execution_count": null,
          "metadata": {},
          "output_type": "execute_result"
        }
      ],
      "source": [
        "test.head(10)"
      ]
    },
    {
      "cell_type": "code",
      "execution_count": null,
      "metadata": {
        "colab": {
          "background_save": true
        },
        "id": "Yk7VVbYxBo6r",
        "outputId": "ec95ccd3-e902-4884-b6a4-577fd439dde2"
      },
      "outputs": [
        {
          "data": {
            "text/html": [
              "<div>\n",
              "<style scoped>\n",
              "    .dataframe tbody tr th:only-of-type {\n",
              "        vertical-align: middle;\n",
              "    }\n",
              "\n",
              "    .dataframe tbody tr th {\n",
              "        vertical-align: top;\n",
              "    }\n",
              "\n",
              "    .dataframe thead th {\n",
              "        text-align: right;\n",
              "    }\n",
              "</style>\n",
              "<table border=\"1\" class=\"dataframe\">\n",
              "  <thead>\n",
              "    <tr style=\"text-align: right;\">\n",
              "      <th></th>\n",
              "      <th>query</th>\n",
              "      <th>clarifying_question</th>\n",
              "      <th>question_id</th>\n",
              "      <th>prediction</th>\n",
              "    </tr>\n",
              "  </thead>\n",
              "  <tbody>\n",
              "    <tr>\n",
              "      <th>152713</th>\n",
              "      <td>whats inside a calzone</td>\n",
              "      <td>would you like to buy tickets to california</td>\n",
              "      <td>Q03321</td>\n",
              "      <td>1.114958</td>\n",
              "    </tr>\n",
              "    <tr>\n",
              "      <th>120513</th>\n",
              "      <td>whats inside a calzone</td>\n",
              "      <td>is there anywhere in california youd like to g...</td>\n",
              "      <td>Q02621</td>\n",
              "      <td>1.111786</td>\n",
              "    </tr>\n",
              "    <tr>\n",
              "      <th>73915</th>\n",
              "      <td>whats inside a calzone</td>\n",
              "      <td>do you need anything specific in relation to c...</td>\n",
              "      <td>Q01608</td>\n",
              "      <td>1.096509</td>\n",
              "    </tr>\n",
              "    <tr>\n",
              "      <th>54871</th>\n",
              "      <td>whats inside a calzone</td>\n",
              "      <td>are you planning to take a trip on ontario or ...</td>\n",
              "      <td>Q01194</td>\n",
              "      <td>1.079110</td>\n",
              "    </tr>\n",
              "    <tr>\n",
              "      <th>30307</th>\n",
              "      <td>whats inside a calzone</td>\n",
              "      <td>are you looking for a recipe</td>\n",
              "      <td>Q00660</td>\n",
              "      <td>1.076265</td>\n",
              "    </tr>\n",
              "    <tr>\n",
              "      <th>139327</th>\n",
              "      <td>whats inside a calzone</td>\n",
              "      <td>which ingredients do you want to include or ex...</td>\n",
              "      <td>Q03030</td>\n",
              "      <td>1.070570</td>\n",
              "    </tr>\n",
              "    <tr>\n",
              "      <th>171895</th>\n",
              "      <td>whats inside a calzone</td>\n",
              "      <td>would you like to learn about rock and gem sho...</td>\n",
              "      <td>Q03738</td>\n",
              "      <td>1.065127</td>\n",
              "    </tr>\n",
              "    <tr>\n",
              "      <th>41761</th>\n",
              "      <td>whats inside a calzone</td>\n",
              "      <td>are you looking for information on weather</td>\n",
              "      <td>Q00909</td>\n",
              "      <td>1.053256</td>\n",
              "    </tr>\n",
              "    <tr>\n",
              "      <th>24419</th>\n",
              "      <td>whats inside a calzone</td>\n",
              "      <td>are you interested in visiting ontario califor...</td>\n",
              "      <td>Q00532</td>\n",
              "      <td>1.025422</td>\n",
              "    </tr>\n",
              "    <tr>\n",
              "      <th>55147</th>\n",
              "      <td>whats inside a calzone</td>\n",
              "      <td>are you referencing earthquake activity</td>\n",
              "      <td>Q01200</td>\n",
              "      <td>1.015179</td>\n",
              "    </tr>\n",
              "  </tbody>\n",
              "</table>\n",
              "</div>"
            ],
            "text/plain": [
              "                         query  ... prediction\n",
              "152713  whats inside a calzone  ...   1.114958\n",
              "120513  whats inside a calzone  ...   1.111786\n",
              "73915   whats inside a calzone  ...   1.096509\n",
              "54871   whats inside a calzone  ...   1.079110\n",
              "30307   whats inside a calzone  ...   1.076265\n",
              "139327  whats inside a calzone  ...   1.070570\n",
              "171895  whats inside a calzone  ...   1.065127\n",
              "41761   whats inside a calzone  ...   1.053256\n",
              "24419   whats inside a calzone  ...   1.025422\n",
              "55147   whats inside a calzone  ...   1.015179\n",
              "\n",
              "[10 rows x 4 columns]"
            ]
          },
          "execution_count": null,
          "metadata": {},
          "output_type": "execute_result"
        }
      ],
      "source": [
        "test = test.sort_values([\"query\", \"prediction\"], ascending=False)\n",
        "test.head(10)"
      ]
    },
    {
      "cell_type": "code",
      "execution_count": null,
      "metadata": {
        "colab": {
          "background_save": true
        },
        "id": "RkLoaweSB3JM",
        "outputId": "821ef327-26de-4765-cf52-33d937e1c165"
      },
      "outputs": [
        {
          "data": {
            "text/html": [
              "<div>\n",
              "<style scoped>\n",
              "    .dataframe tbody tr th:only-of-type {\n",
              "        vertical-align: middle;\n",
              "    }\n",
              "\n",
              "    .dataframe tbody tr th {\n",
              "        vertical-align: top;\n",
              "    }\n",
              "\n",
              "    .dataframe thead th {\n",
              "        text-align: right;\n",
              "    }\n",
              "</style>\n",
              "<table border=\"1\" class=\"dataframe\">\n",
              "  <thead>\n",
              "    <tr style=\"text-align: right;\">\n",
              "      <th></th>\n",
              "      <th>query</th>\n",
              "      <th>clarifying_question</th>\n",
              "      <th>question_id</th>\n",
              "      <th>prediction</th>\n",
              "    </tr>\n",
              "  </thead>\n",
              "  <tbody>\n",
              "    <tr>\n",
              "      <th>0</th>\n",
              "      <td>whats inside a calzone</td>\n",
              "      <td>would you like to buy tickets to california</td>\n",
              "      <td>Q03321</td>\n",
              "      <td>1.114958</td>\n",
              "    </tr>\n",
              "    <tr>\n",
              "      <th>1</th>\n",
              "      <td>whats inside a calzone</td>\n",
              "      <td>is there anywhere in california youd like to g...</td>\n",
              "      <td>Q02621</td>\n",
              "      <td>1.111786</td>\n",
              "    </tr>\n",
              "    <tr>\n",
              "      <th>2</th>\n",
              "      <td>whats inside a calzone</td>\n",
              "      <td>do you need anything specific in relation to c...</td>\n",
              "      <td>Q01608</td>\n",
              "      <td>1.096509</td>\n",
              "    </tr>\n",
              "    <tr>\n",
              "      <th>3</th>\n",
              "      <td>whats inside a calzone</td>\n",
              "      <td>are you planning to take a trip on ontario or ...</td>\n",
              "      <td>Q01194</td>\n",
              "      <td>1.079110</td>\n",
              "    </tr>\n",
              "    <tr>\n",
              "      <th>4</th>\n",
              "      <td>whats inside a calzone</td>\n",
              "      <td>are you looking for a recipe</td>\n",
              "      <td>Q00660</td>\n",
              "      <td>1.076265</td>\n",
              "    </tr>\n",
              "    <tr>\n",
              "      <th>...</th>\n",
              "      <td>...</td>\n",
              "      <td>...</td>\n",
              "      <td>...</td>\n",
              "      <td>...</td>\n",
              "    </tr>\n",
              "    <tr>\n",
              "      <th>2295</th>\n",
              "      <td>How do i plug a mouse into the computer</td>\n",
              "      <td>are you looking for a list of products</td>\n",
              "      <td>Q00639</td>\n",
              "      <td>-0.783600</td>\n",
              "    </tr>\n",
              "    <tr>\n",
              "      <th>2296</th>\n",
              "      <td>How do i plug a mouse into the computer</td>\n",
              "      <td>are you looking for the cost</td>\n",
              "      <td>Q01060</td>\n",
              "      <td>-0.787121</td>\n",
              "    </tr>\n",
              "    <tr>\n",
              "      <th>2297</th>\n",
              "      <td>How do i plug a mouse into the computer</td>\n",
              "      <td>are you looking for a brooks brothers outlet</td>\n",
              "      <td>Q00594</td>\n",
              "      <td>-0.796877</td>\n",
              "    </tr>\n",
              "    <tr>\n",
              "      <th>2298</th>\n",
              "      <td>How do i plug a mouse into the computer</td>\n",
              "      <td>would you like to see reviews by professionals...</td>\n",
              "      <td>Q03878</td>\n",
              "      <td>-0.797915</td>\n",
              "    </tr>\n",
              "    <tr>\n",
              "      <th>2299</th>\n",
              "      <td>How do i plug a mouse into the computer</td>\n",
              "      <td>would you like to see some reviews</td>\n",
              "      <td>Q03888</td>\n",
              "      <td>-0.799436</td>\n",
              "    </tr>\n",
              "  </tbody>\n",
              "</table>\n",
              "<p>2300 rows × 4 columns</p>\n",
              "</div>"
            ],
            "text/plain": [
              "                                        query  ... prediction\n",
              "0                      whats inside a calzone  ...   1.114958\n",
              "1                      whats inside a calzone  ...   1.111786\n",
              "2                      whats inside a calzone  ...   1.096509\n",
              "3                      whats inside a calzone  ...   1.079110\n",
              "4                      whats inside a calzone  ...   1.076265\n",
              "...                                       ...  ...        ...\n",
              "2295  How do i plug a mouse into the computer  ...  -0.783600\n",
              "2296  How do i plug a mouse into the computer  ...  -0.787121\n",
              "2297  How do i plug a mouse into the computer  ...  -0.796877\n",
              "2298  How do i plug a mouse into the computer  ...  -0.797915\n",
              "2299  How do i plug a mouse into the computer  ...  -0.799436\n",
              "\n",
              "[2300 rows x 4 columns]"
            ]
          },
          "execution_count": null,
          "metadata": {},
          "output_type": "execute_result"
        }
      ],
      "source": [
        "out = test.groupby([ \"query\" ]).head(50).reset_index(drop=True)\n",
        "out"
      ]
    },
    {
      "cell_type": "code",
      "execution_count": null,
      "metadata": {
        "colab": {
          "background_save": true
        },
        "id": "6YzYTckdaRwX",
        "outputId": "a64a96dd-9bf0-4162-f7cc-28ddd980289d"
      },
      "outputs": [
        {
          "data": {
            "text/html": [
              "<div>\n",
              "<style scoped>\n",
              "    .dataframe tbody tr th:only-of-type {\n",
              "        vertical-align: middle;\n",
              "    }\n",
              "\n",
              "    .dataframe tbody tr th {\n",
              "        vertical-align: top;\n",
              "    }\n",
              "\n",
              "    .dataframe thead th {\n",
              "        text-align: right;\n",
              "    }\n",
              "</style>\n",
              "<table border=\"1\" class=\"dataframe\">\n",
              "  <thead>\n",
              "    <tr style=\"text-align: right;\">\n",
              "      <th></th>\n",
              "      <th>query</th>\n",
              "      <th>clarifying_question</th>\n",
              "      <th>question_id</th>\n",
              "      <th>prediction</th>\n",
              "      <th>question_ids</th>\n",
              "    </tr>\n",
              "  </thead>\n",
              "  <tbody>\n",
              "    <tr>\n",
              "      <th>0</th>\n",
              "      <td>whats inside a calzone</td>\n",
              "      <td>would you like to buy tickets to california</td>\n",
              "      <td>Q03321</td>\n",
              "      <td>1.114958</td>\n",
              "      <td>Q03321,Q02621,Q01608,Q01194,Q00660,Q03030,Q037...</td>\n",
              "    </tr>\n",
              "    <tr>\n",
              "      <th>1</th>\n",
              "      <td>whats inside a calzone</td>\n",
              "      <td>is there anywhere in california youd like to g...</td>\n",
              "      <td>Q02621</td>\n",
              "      <td>1.111786</td>\n",
              "      <td>Q03321,Q02621,Q01608,Q01194,Q00660,Q03030,Q037...</td>\n",
              "    </tr>\n",
              "    <tr>\n",
              "      <th>2</th>\n",
              "      <td>whats inside a calzone</td>\n",
              "      <td>do you need anything specific in relation to c...</td>\n",
              "      <td>Q01608</td>\n",
              "      <td>1.096509</td>\n",
              "      <td>Q03321,Q02621,Q01608,Q01194,Q00660,Q03030,Q037...</td>\n",
              "    </tr>\n",
              "    <tr>\n",
              "      <th>3</th>\n",
              "      <td>whats inside a calzone</td>\n",
              "      <td>are you planning to take a trip on ontario or ...</td>\n",
              "      <td>Q01194</td>\n",
              "      <td>1.079110</td>\n",
              "      <td>Q03321,Q02621,Q01608,Q01194,Q00660,Q03030,Q037...</td>\n",
              "    </tr>\n",
              "    <tr>\n",
              "      <th>4</th>\n",
              "      <td>whats inside a calzone</td>\n",
              "      <td>are you looking for a recipe</td>\n",
              "      <td>Q00660</td>\n",
              "      <td>1.076265</td>\n",
              "      <td>Q03321,Q02621,Q01608,Q01194,Q00660,Q03030,Q037...</td>\n",
              "    </tr>\n",
              "    <tr>\n",
              "      <th>...</th>\n",
              "      <td>...</td>\n",
              "      <td>...</td>\n",
              "      <td>...</td>\n",
              "      <td>...</td>\n",
              "      <td>...</td>\n",
              "    </tr>\n",
              "    <tr>\n",
              "      <th>2295</th>\n",
              "      <td>How do i plug a mouse into the computer</td>\n",
              "      <td>are you looking for a list of products</td>\n",
              "      <td>Q00639</td>\n",
              "      <td>-0.783600</td>\n",
              "      <td>Q01567,Q01058,Q03942,Q01037,Q01867,Q00709,Q029...</td>\n",
              "    </tr>\n",
              "    <tr>\n",
              "      <th>2296</th>\n",
              "      <td>How do i plug a mouse into the computer</td>\n",
              "      <td>are you looking for the cost</td>\n",
              "      <td>Q01060</td>\n",
              "      <td>-0.787121</td>\n",
              "      <td>Q01567,Q01058,Q03942,Q01037,Q01867,Q00709,Q029...</td>\n",
              "    </tr>\n",
              "    <tr>\n",
              "      <th>2297</th>\n",
              "      <td>How do i plug a mouse into the computer</td>\n",
              "      <td>are you looking for a brooks brothers outlet</td>\n",
              "      <td>Q00594</td>\n",
              "      <td>-0.796877</td>\n",
              "      <td>Q01567,Q01058,Q03942,Q01037,Q01867,Q00709,Q029...</td>\n",
              "    </tr>\n",
              "    <tr>\n",
              "      <th>2298</th>\n",
              "      <td>How do i plug a mouse into the computer</td>\n",
              "      <td>would you like to see reviews by professionals...</td>\n",
              "      <td>Q03878</td>\n",
              "      <td>-0.797915</td>\n",
              "      <td>Q01567,Q01058,Q03942,Q01037,Q01867,Q00709,Q029...</td>\n",
              "    </tr>\n",
              "    <tr>\n",
              "      <th>2299</th>\n",
              "      <td>How do i plug a mouse into the computer</td>\n",
              "      <td>would you like to see some reviews</td>\n",
              "      <td>Q03888</td>\n",
              "      <td>-0.799436</td>\n",
              "      <td>Q01567,Q01058,Q03942,Q01037,Q01867,Q00709,Q029...</td>\n",
              "    </tr>\n",
              "  </tbody>\n",
              "</table>\n",
              "<p>2300 rows × 5 columns</p>\n",
              "</div>"
            ],
            "text/plain": [
              "                                        query  ...                                       question_ids\n",
              "0                      whats inside a calzone  ...  Q03321,Q02621,Q01608,Q01194,Q00660,Q03030,Q037...\n",
              "1                      whats inside a calzone  ...  Q03321,Q02621,Q01608,Q01194,Q00660,Q03030,Q037...\n",
              "2                      whats inside a calzone  ...  Q03321,Q02621,Q01608,Q01194,Q00660,Q03030,Q037...\n",
              "3                      whats inside a calzone  ...  Q03321,Q02621,Q01608,Q01194,Q00660,Q03030,Q037...\n",
              "4                      whats inside a calzone  ...  Q03321,Q02621,Q01608,Q01194,Q00660,Q03030,Q037...\n",
              "...                                       ...  ...                                                ...\n",
              "2295  How do i plug a mouse into the computer  ...  Q01567,Q01058,Q03942,Q01037,Q01867,Q00709,Q029...\n",
              "2296  How do i plug a mouse into the computer  ...  Q01567,Q01058,Q03942,Q01037,Q01867,Q00709,Q029...\n",
              "2297  How do i plug a mouse into the computer  ...  Q01567,Q01058,Q03942,Q01037,Q01867,Q00709,Q029...\n",
              "2298  How do i plug a mouse into the computer  ...  Q01567,Q01058,Q03942,Q01037,Q01867,Q00709,Q029...\n",
              "2299  How do i plug a mouse into the computer  ...  Q01567,Q01058,Q03942,Q01037,Q01867,Q00709,Q029...\n",
              "\n",
              "[2300 rows x 5 columns]"
            ]
          },
          "execution_count": null,
          "metadata": {},
          "output_type": "execute_result"
        }
      ],
      "source": [
        "out[\"question_ids\"] = list(out.groupby([\"query\"])[\"question_id\"].transform(lambda x: ','.join(x)))\n",
        "out"
      ]
    },
    {
      "cell_type": "code",
      "execution_count": null,
      "metadata": {
        "colab": {
          "background_save": true
        },
        "id": "nvESiTHyCPnq"
      },
      "outputs": [],
      "source": [
        "out[[\"query\", \"question_ids\"]].drop_duplicates().to_csv(\"answer.txt\", sep=\"\\t\", header=False, index=False)"
      ]
    }
  ],
  "metadata": {
    "accelerator": "GPU",
    "colab": {
      "collapsed_sections": [],
      "include_colab_link": true,
      "name": "DL4NLP Shared Task 2021.ipynb",
      "provenance": []
    },
    "kernelspec": {
      "display_name": "Python 3",
      "name": "python3"
    },
    "language_info": {
      "name": "python"
    }
  },
  "nbformat": 4,
  "nbformat_minor": 0
}
